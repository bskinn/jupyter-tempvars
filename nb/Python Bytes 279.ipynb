{
 "cells": [
  {
   "cell_type": "code",
   "execution_count": null,
   "id": "ceaaff55",
   "metadata": {},
   "outputs": [],
   "source": [
    "from tempvars import TempVars"
   ]
  },
  {
   "cell_type": "code",
   "execution_count": null,
   "id": "3a8b9f82",
   "metadata": {},
   "outputs": [],
   "source": [
    "t_a = 5"
   ]
  },
  {
   "cell_type": "code",
   "execution_count": null,
   "id": "aa994b23",
   "metadata": {},
   "outputs": [],
   "source": [
    "with TempVars(starts=[\"t_\"]):\n",
    "    print(f\"{'t_a' in dir()=}\")\n",
    "    t_a = 7\n",
    "    print(f\"{t_a=}\")"
   ]
  },
  {
   "cell_type": "code",
   "execution_count": null,
   "id": "bb325941",
   "metadata": {},
   "outputs": [],
   "source": [
    "t_a"
   ]
  },
  {
   "cell_type": "code",
   "execution_count": null,
   "id": "ec9d47b7",
   "metadata": {
    "tags": [
     "tempvars-start-t_"
    ]
   },
   "outputs": [],
   "source": [
    "t_a"
   ]
  }
 ],
 "metadata": {
  "celltoolbar": "Tags",
  "kernelspec": {
   "display_name": "Python 3 (ipykernel)",
   "language": "python",
   "name": "python3"
  },
  "language_info": {
   "codemirror_mode": {
    "name": "ipython",
    "version": 3
   },
   "file_extension": ".py",
   "mimetype": "text/x-python",
   "name": "python",
   "nbconvert_exporter": "python",
   "pygments_lexer": "ipython3",
   "version": "3.9.12"
  },
  "toc": {
   "base_numbering": 1,
   "nav_menu": {},
   "number_sections": true,
   "sideBar": true,
   "skip_h1_title": false,
   "title_cell": "Table of Contents",
   "title_sidebar": "Contents",
   "toc_cell": false,
   "toc_position": {},
   "toc_section_display": true,
   "toc_window_display": false
  },
  "varInspector": {
   "cols": {
    "lenName": 16,
    "lenType": 16,
    "lenVar": 40
   },
   "kernels_config": {
    "python": {
     "delete_cmd_postfix": "",
     "delete_cmd_prefix": "del ",
     "library": "var_list.py",
     "varRefreshCmd": "print(var_dic_list())"
    },
    "r": {
     "delete_cmd_postfix": ") ",
     "delete_cmd_prefix": "rm(",
     "library": "var_list.r",
     "varRefreshCmd": "cat(var_dic_list()) "
    }
   },
   "types_to_exclude": [
    "module",
    "function",
    "builtin_function_or_method",
    "instance",
    "_Feature"
   ],
   "window_display": false
  }
 },
 "nbformat": 4,
 "nbformat_minor": 5
}
