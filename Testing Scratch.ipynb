{
 "cells": [
  {
   "cell_type": "code",
   "execution_count": null,
   "id": "903e89a0",
   "metadata": {},
   "outputs": [],
   "source": [
    "TempVars"
   ]
  },
  {
   "cell_type": "code",
   "execution_count": null,
   "id": "49a43df4",
   "metadata": {},
   "outputs": [],
   "source": [
    "%load_ext jupyter_tempvars"
   ]
  },
  {
   "cell_type": "code",
   "execution_count": null,
   "id": "6fe416fd",
   "metadata": {},
   "outputs": [],
   "source": [
    "ip = get_ipython()"
   ]
  },
  {
   "cell_type": "code",
   "execution_count": null,
   "id": "4807128b",
   "metadata": {},
   "outputs": [],
   "source": [
    "ip.kernel.comm_manager.comms['4e604817c7744ceb9d029ce255ccb93f'].send(\"foo\")"
   ]
  },
  {
   "cell_type": "code",
   "execution_count": null,
   "id": "5026300f",
   "metadata": {},
   "outputs": [],
   "source": [
    "1"
   ]
  },
  {
   "cell_type": "code",
   "execution_count": null,
   "id": "48bdad50",
   "metadata": {},
   "outputs": [],
   "source": [
    "1"
   ]
  },
  {
   "cell_type": "code",
   "execution_count": null,
   "id": "952b158a",
   "metadata": {},
   "outputs": [],
   "source": [
    "from time import sleep"
   ]
  },
  {
   "cell_type": "code",
   "execution_count": null,
   "id": "aa6425e1",
   "metadata": {},
   "outputs": [],
   "source": [
    "sleep(2)\n",
    "print(2)"
   ]
  },
  {
   "cell_type": "code",
   "execution_count": null,
   "id": "86151108",
   "metadata": {},
   "outputs": [],
   "source": [
    "print(1)"
   ]
  },
  {
   "cell_type": "code",
   "execution_count": null,
   "id": "41cd02f6",
   "metadata": {},
   "outputs": [],
   "source": [
    "a = 5"
   ]
  },
  {
   "cell_type": "code",
   "execution_count": null,
   "id": "8a8a53a2",
   "metadata": {},
   "outputs": [],
   "source": [
    "print(a)"
   ]
  },
  {
   "cell_type": "code",
   "execution_count": null,
   "id": "181d8094",
   "metadata": {},
   "outputs": [],
   "source": [
    "t_a = 5"
   ]
  },
  {
   "cell_type": "code",
   "execution_count": null,
   "id": "be5ae85e",
   "metadata": {},
   "outputs": [],
   "source": [
    "t_a"
   ]
  },
  {
   "cell_type": "code",
   "execution_count": null,
   "id": "423b7a30",
   "metadata": {
    "tags": [
     "tempvars-start-t_",
     "tempvars-end-_temp"
    ]
   },
   "outputs": [],
   "source": [
    "a = 3\n",
    "t_b = 5\n",
    "var_temp = 7\n",
    "\n",
    "print(a * t_b + var_temp)"
   ]
  },
  {
   "cell_type": "code",
   "execution_count": null,
   "id": "17b7b804",
   "metadata": {},
   "outputs": [],
   "source": [
    "a"
   ]
  },
  {
   "cell_type": "code",
   "execution_count": null,
   "id": "cdbd98d0",
   "metadata": {},
   "outputs": [],
   "source": [
    "t_b"
   ]
  },
  {
   "cell_type": "code",
   "execution_count": null,
   "id": "74a6ea0f",
   "metadata": {},
   "outputs": [],
   "source": [
    "var_temp"
   ]
  },
  {
   "cell_type": "code",
   "execution_count": null,
   "id": "eb5d7ab7",
   "metadata": {},
   "outputs": [],
   "source": []
  },
  {
   "cell_type": "code",
   "execution_count": null,
   "id": "0ebb73be",
   "metadata": {},
   "outputs": [],
   "source": [
    "assert 't_b' in dir(), \"t_b not found\""
   ]
  },
  {
   "cell_type": "code",
   "execution_count": null,
   "id": "404bcb0a",
   "metadata": {},
   "outputs": [],
   "source": [
    "t_a"
   ]
  },
  {
   "cell_type": "code",
   "execution_count": null,
   "id": "82f628eb",
   "metadata": {},
   "outputs": [],
   "source": [
    "%tempvars universal 50"
   ]
  },
  {
   "cell_type": "code",
   "execution_count": null,
   "id": "7161e304",
   "metadata": {},
   "outputs": [],
   "source": [
    "_jupyter_tempvars_settings"
   ]
  },
  {
   "cell_type": "code",
   "execution_count": null,
   "id": "ab4ac176",
   "metadata": {},
   "outputs": [],
   "source": [
    "from tempvars import TempVars"
   ]
  }
 ],
 "metadata": {
  "celltoolbar": "Tags",
  "kernelspec": {
   "display_name": "Python 3 (ipykernel)",
   "language": "python",
   "name": "python3"
  },
  "language_info": {
   "codemirror_mode": {
    "name": "ipython",
    "version": 3
   },
   "file_extension": ".py",
   "mimetype": "text/x-python",
   "name": "python",
   "nbconvert_exporter": "python",
   "pygments_lexer": "ipython3",
   "version": "3.9.11"
  },
  "tempvars": {
   "end_with": [],
   "start_with": [],
   "universal": false
  },
  "toc": {
   "base_numbering": 1,
   "nav_menu": {},
   "number_sections": true,
   "sideBar": true,
   "skip_h1_title": false,
   "title_cell": "Table of Contents",
   "title_sidebar": "Contents",
   "toc_cell": false,
   "toc_position": {},
   "toc_section_display": true,
   "toc_window_display": false
  },
  "varInspector": {
   "cols": {
    "lenName": 16,
    "lenType": 16,
    "lenVar": 40
   },
   "kernels_config": {
    "python": {
     "delete_cmd_postfix": "",
     "delete_cmd_prefix": "del ",
     "library": "var_list.py",
     "varRefreshCmd": "print(var_dic_list())"
    },
    "r": {
     "delete_cmd_postfix": ") ",
     "delete_cmd_prefix": "rm(",
     "library": "var_list.r",
     "varRefreshCmd": "cat(var_dic_list()) "
    }
   },
   "types_to_exclude": [
    "module",
    "function",
    "builtin_function_or_method",
    "instance",
    "_Feature"
   ],
   "window_display": false
  }
 },
 "nbformat": 4,
 "nbformat_minor": 5
}
