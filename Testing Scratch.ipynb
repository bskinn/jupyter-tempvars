{
 "cells": [
  {
   "cell_type": "code",
   "execution_count": null,
   "id": "5026300f",
   "metadata": {},
   "outputs": [],
   "source": [
    "1"
   ]
  },
  {
   "cell_type": "code",
   "execution_count": null,
   "id": "48bdad50",
   "metadata": {
    "tags": [
     "tempvars"
    ]
   },
   "outputs": [],
   "source": [
    "1"
   ]
  },
  {
   "cell_type": "code",
   "execution_count": null,
   "id": "952b158a",
   "metadata": {},
   "outputs": [],
   "source": [
    "from time import sleep"
   ]
  },
  {
   "cell_type": "code",
   "execution_count": null,
   "id": "aa6425e1",
   "metadata": {},
   "outputs": [],
   "source": [
    "sleep(2)\n",
    "print(2)"
   ]
  },
  {
   "cell_type": "code",
   "execution_count": null,
   "id": "86151108",
   "metadata": {},
   "outputs": [],
   "source": [
    "print(1)"
   ]
  },
  {
   "cell_type": "code",
   "execution_count": null,
   "id": "41cd02f6",
   "metadata": {},
   "outputs": [],
   "source": [
    "a = 5"
   ]
  },
  {
   "cell_type": "code",
   "execution_count": null,
   "id": "8a8a53a2",
   "metadata": {},
   "outputs": [],
   "source": [
    "print(a)"
   ]
  },
  {
   "cell_type": "code",
   "execution_count": null,
   "id": "181d8094",
   "metadata": {},
   "outputs": [],
   "source": [
    "t_a = 5"
   ]
  },
  {
   "cell_type": "code",
   "execution_count": null,
   "id": "be5ae85e",
   "metadata": {},
   "outputs": [],
   "source": [
    "t_a"
   ]
  },
  {
   "cell_type": "code",
   "execution_count": null,
   "id": "423b7a30",
   "metadata": {
    "tags": [
     "tempvars"
    ]
   },
   "outputs": [],
   "source": [
    "t_b = 5"
   ]
  },
  {
   "cell_type": "code",
   "execution_count": null,
   "id": "cdbd98d0",
   "metadata": {},
   "outputs": [],
   "source": [
    "t_b"
   ]
  },
  {
   "cell_type": "code",
   "execution_count": null,
   "id": "404bcb0a",
   "metadata": {},
   "outputs": [],
   "source": [
    "t_a"
   ]
  },
  {
   "cell_type": "code",
   "execution_count": null,
   "id": "87711a18",
   "metadata": {},
   "outputs": [],
   "source": [
    "%load_ext jupyter_tempvars"
   ]
  },
  {
   "cell_type": "code",
   "execution_count": null,
   "id": "82f628eb",
   "metadata": {},
   "outputs": [],
   "source": [
    "%tempvars universal true"
   ]
  },
  {
   "cell_type": "code",
   "execution_count": null,
   "id": "4fa2ced5",
   "metadata": {},
   "outputs": [],
   "source": [
    "from IPython.display import Javascript"
   ]
  },
  {
   "cell_type": "code",
   "execution_count": null,
   "id": "6bd5f015",
   "metadata": {},
   "outputs": [],
   "source": [
    "Javascript(\"console.log('testing log');\")"
   ]
  },
  {
   "cell_type": "code",
   "execution_count": null,
   "id": "a564e4ba",
   "metadata": {},
   "outputs": [],
   "source": [
    "Javascript(\"Jupyter.notebook.metadata['tempvars']['universal'] = false\")"
   ]
  }
 ],
 "metadata": {
  "celltoolbar": "Tags",
  "kernelspec": {
   "display_name": "Python 3 (ipykernel)",
   "language": "python",
   "name": "python3"
  },
  "language_info": {
   "codemirror_mode": {
    "name": "ipython",
    "version": 3
   },
   "file_extension": ".py",
   "mimetype": "text/x-python",
   "name": "python",
   "nbconvert_exporter": "python",
   "pygments_lexer": "ipython3",
   "version": "3.9.11"
  },
  "tempvars": {
   "universal": false
  },
  "toc": {
   "base_numbering": 1,
   "nav_menu": {},
   "number_sections": true,
   "sideBar": true,
   "skip_h1_title": false,
   "title_cell": "Table of Contents",
   "title_sidebar": "Contents",
   "toc_cell": false,
   "toc_position": {},
   "toc_section_display": true,
   "toc_window_display": false
  },
  "varInspector": {
   "cols": {
    "lenName": 16,
    "lenType": 16,
    "lenVar": 40
   },
   "kernels_config": {
    "python": {
     "delete_cmd_postfix": "",
     "delete_cmd_prefix": "del ",
     "library": "var_list.py",
     "varRefreshCmd": "print(var_dic_list())"
    },
    "r": {
     "delete_cmd_postfix": ") ",
     "delete_cmd_prefix": "rm(",
     "library": "var_list.r",
     "varRefreshCmd": "cat(var_dic_list()) "
    }
   },
   "types_to_exclude": [
    "module",
    "function",
    "builtin_function_or_method",
    "instance",
    "_Feature"
   ],
   "window_display": false
  }
 },
 "nbformat": 4,
 "nbformat_minor": 5
}
